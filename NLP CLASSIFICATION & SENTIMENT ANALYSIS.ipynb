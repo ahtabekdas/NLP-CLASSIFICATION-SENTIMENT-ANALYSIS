{
 "cells": [
  {
   "cell_type": "markdown",
   "id": "09a8ae61",
   "metadata": {},
   "source": [
    "# Yorumlarının Pozitif, Negatif ve Nötr analizlerinin yapılması ve Modellenmesi"
   ]
  },
  {
   "cell_type": "code",
   "execution_count": 1,
   "id": "263d5291",
   "metadata": {},
   "outputs": [
    {
     "name": "stdout",
     "output_type": "stream",
     "text": [
      "Requirement already satisfied: nltk in c:\\users\\telha\\anaconda3\\lib\\site-packages (3.8.1)"
     ]
    },
    {
     "name": "stderr",
     "output_type": "stream",
     "text": [
      "DEPRECATION: Loading egg at c:\\users\\telha\\anaconda3\\lib\\site-packages\\tortoise-2.8.0-py3.11.egg is deprecated. pip 23.3 will enforce this behaviour change. A possible replacement is to use pip for package installation..\n"
     ]
    },
    {
     "name": "stdout",
     "output_type": "stream",
     "text": [
      "\n",
      "Requirement already satisfied: click in c:\\users\\telha\\anaconda3\\lib\\site-packages (from nltk) (8.0.4)\n",
      "Requirement already satisfied: joblib in c:\\users\\telha\\anaconda3\\lib\\site-packages (from nltk) (1.2.0)\n",
      "Requirement already satisfied: regex>=2021.8.3 in c:\\users\\telha\\anaconda3\\lib\\site-packages (from nltk) (2022.7.9)\n",
      "Requirement already satisfied: tqdm in c:\\users\\telha\\anaconda3\\lib\\site-packages (from nltk) (4.65.0)\n",
      "Requirement already satisfied: colorama in c:\\users\\telha\\anaconda3\\lib\\site-packages (from click->nltk) (0.4.6)\n"
     ]
    }
   ],
   "source": [
    "!pip install nltk"
   ]
  },
  {
   "cell_type": "code",
   "execution_count": 2,
   "id": "530dfb80",
   "metadata": {},
   "outputs": [],
   "source": [
    "import pandas as pd\n",
    "\n",
    "from sklearn.model_selection import train_test_split\n",
    "from sklearn.linear_model import LogisticRegression\n",
    "\n",
    "lr=LogisticRegression()\n",
    "\n",
    "from sklearn.metrics import accuracy_score, confusion_matrix, classification_report\n",
    "from sklearn.feature_extraction.text import CountVectorizer, TfidfVectorizer\n",
    "\n",
    "from textblob import TextBlob, Word\n",
    "\n",
    "from nltk.stem.snowball import SnowballStemmer\n",
    "\n",
    "from langdetect import detect\n",
    "\n",
    "import seaborn as sns\n",
    "import numpy as np\n",
    "import scipy as sp\n",
    "\n",
    "import nltk\n",
    "from nltk.tokenize import sent_tokenize\n",
    "\n",
    "import warnings\n",
    "warnings.filterwarnings(\"ignore\")\n",
    "%matplotlib inline"
   ]
  },
  {
   "cell_type": "code",
   "execution_count": 3,
   "id": "dfafc668",
   "metadata": {},
   "outputs": [],
   "source": [
    "df=pd.read_csv('restaurant.csv')"
   ]
  },
  {
   "cell_type": "code",
   "execution_count": 4,
   "id": "80fb606c",
   "metadata": {},
   "outputs": [
    {
     "data": {
      "text/html": [
       "<div>\n",
       "<style scoped>\n",
       "    .dataframe tbody tr th:only-of-type {\n",
       "        vertical-align: middle;\n",
       "    }\n",
       "\n",
       "    .dataframe tbody tr th {\n",
       "        vertical-align: top;\n",
       "    }\n",
       "\n",
       "    .dataframe thead th {\n",
       "        text-align: right;\n",
       "    }\n",
       "</style>\n",
       "<table border=\"1\" class=\"dataframe\">\n",
       "  <thead>\n",
       "    <tr style=\"text-align: right;\">\n",
       "      <th></th>\n",
       "      <th>Unnamed: 0</th>\n",
       "      <th>review_id</th>\n",
       "      <th>user_id</th>\n",
       "      <th>business_id</th>\n",
       "      <th>stars</th>\n",
       "      <th>useful</th>\n",
       "      <th>funny</th>\n",
       "      <th>cool</th>\n",
       "      <th>text</th>\n",
       "      <th>date</th>\n",
       "    </tr>\n",
       "  </thead>\n",
       "  <tbody>\n",
       "    <tr>\n",
       "      <th>0</th>\n",
       "      <td>2370338</td>\n",
       "      <td>_WTGv5XnA-qb_XD1D7Z0jg</td>\n",
       "      <td>6PgdGb3HrZdsfl2GiULo8w</td>\n",
       "      <td>RESDUcs7fIiihp38-d6_6g</td>\n",
       "      <td>5</td>\n",
       "      <td>0</td>\n",
       "      <td>1</td>\n",
       "      <td>0</td>\n",
       "      <td>After getting food poisoning at the Palms hote...</td>\n",
       "      <td>2012-12-04 03:10:18</td>\n",
       "    </tr>\n",
       "    <tr>\n",
       "      <th>1</th>\n",
       "      <td>2370357</td>\n",
       "      <td>JlNnsvMPLK_1-X2hwzK24w</td>\n",
       "      <td>IS9yw8P2uAPBX6FNLLX4KA</td>\n",
       "      <td>RESDUcs7fIiihp38-d6_6g</td>\n",
       "      <td>4</td>\n",
       "      <td>39</td>\n",
       "      <td>21</td>\n",
       "      <td>29</td>\n",
       "      <td>\"A feast worthy of Gods\"\\n\\nBaccarnal Buffet i...</td>\n",
       "      <td>2014-01-17 00:50:50</td>\n",
       "    </tr>\n",
       "    <tr>\n",
       "      <th>2</th>\n",
       "      <td>2370373</td>\n",
       "      <td>hBkoWffORRb6aqKhC_Li2A</td>\n",
       "      <td>uZdFsE_aHbFBChgN6Xa8tw</td>\n",
       "      <td>RESDUcs7fIiihp38-d6_6g</td>\n",
       "      <td>4</td>\n",
       "      <td>1</td>\n",
       "      <td>1</td>\n",
       "      <td>1</td>\n",
       "      <td>The crab legs are better than the ones at Wick...</td>\n",
       "      <td>2015-06-08 18:03:09</td>\n",
       "    </tr>\n",
       "    <tr>\n",
       "      <th>3</th>\n",
       "      <td>2370411</td>\n",
       "      <td>rbkxvrgZg5kdCL2a66QYmA</td>\n",
       "      <td>8ZWJNAEWsymXDzKx3B0tTQ</td>\n",
       "      <td>RESDUcs7fIiihp38-d6_6g</td>\n",
       "      <td>1</td>\n",
       "      <td>0</td>\n",
       "      <td>0</td>\n",
       "      <td>0</td>\n",
       "      <td>Not worth it! Too salty food and expensive! Th...</td>\n",
       "      <td>2016-12-19 16:15:29</td>\n",
       "    </tr>\n",
       "    <tr>\n",
       "      <th>4</th>\n",
       "      <td>2370500</td>\n",
       "      <td>5tw_pedoHVi9bgeiBNsISg</td>\n",
       "      <td>E0sm4Ve7ifanFYeQMcV8Eg</td>\n",
       "      <td>RESDUcs7fIiihp38-d6_6g</td>\n",
       "      <td>5</td>\n",
       "      <td>0</td>\n",
       "      <td>0</td>\n",
       "      <td>0</td>\n",
       "      <td>I would give this infinite stars if I could. M...</td>\n",
       "      <td>2015-07-28 07:13:17</td>\n",
       "    </tr>\n",
       "  </tbody>\n",
       "</table>\n",
       "</div>"
      ],
      "text/plain": [
       "   Unnamed: 0               review_id                 user_id  \\\n",
       "0     2370338  _WTGv5XnA-qb_XD1D7Z0jg  6PgdGb3HrZdsfl2GiULo8w   \n",
       "1     2370357  JlNnsvMPLK_1-X2hwzK24w  IS9yw8P2uAPBX6FNLLX4KA   \n",
       "2     2370373  hBkoWffORRb6aqKhC_Li2A  uZdFsE_aHbFBChgN6Xa8tw   \n",
       "3     2370411  rbkxvrgZg5kdCL2a66QYmA  8ZWJNAEWsymXDzKx3B0tTQ   \n",
       "4     2370500  5tw_pedoHVi9bgeiBNsISg  E0sm4Ve7ifanFYeQMcV8Eg   \n",
       "\n",
       "              business_id  stars  useful  funny  cool  \\\n",
       "0  RESDUcs7fIiihp38-d6_6g      5       0      1     0   \n",
       "1  RESDUcs7fIiihp38-d6_6g      4      39     21    29   \n",
       "2  RESDUcs7fIiihp38-d6_6g      4       1      1     1   \n",
       "3  RESDUcs7fIiihp38-d6_6g      1       0      0     0   \n",
       "4  RESDUcs7fIiihp38-d6_6g      5       0      0     0   \n",
       "\n",
       "                                                text                 date  \n",
       "0  After getting food poisoning at the Palms hote...  2012-12-04 03:10:18  \n",
       "1  \"A feast worthy of Gods\"\\n\\nBaccarnal Buffet i...  2014-01-17 00:50:50  \n",
       "2  The crab legs are better than the ones at Wick...  2015-06-08 18:03:09  \n",
       "3  Not worth it! Too salty food and expensive! Th...  2016-12-19 16:15:29  \n",
       "4  I would give this infinite stars if I could. M...  2015-07-28 07:13:17  "
      ]
     },
     "execution_count": 4,
     "metadata": {},
     "output_type": "execute_result"
    }
   ],
   "source": [
    "df.head()"
   ]
  },
  {
   "cell_type": "code",
   "execution_count": 5,
   "id": "e3f53485",
   "metadata": {},
   "outputs": [
    {
     "data": {
      "text/plain": [
       "(10417, 10)"
      ]
     },
     "execution_count": 5,
     "metadata": {},
     "output_type": "execute_result"
    }
   ],
   "source": [
    "df.shape"
   ]
  },
  {
   "cell_type": "code",
   "execution_count": 6,
   "id": "14ee9549",
   "metadata": {},
   "outputs": [],
   "source": [
    "df['text']=df['text'].str.lower()\n",
    "df['text']=df['text'].str.replace('[^\\w\\s]','')\n",
    "df['text']=df['text'].str.replace('\\d+','') \n",
    "df['text']=df['text'].str.replace('\\n','').replace('\\r','')"
   ]
  },
  {
   "cell_type": "markdown",
   "id": "093cd7e7",
   "metadata": {},
   "source": [
    "## Sentiment analysis"
   ]
  },
  {
   "cell_type": "code",
   "execution_count": 9,
   "id": "223b2b31",
   "metadata": {},
   "outputs": [],
   "source": [
    "from wordcloud import WordCloud, STOPWORDS\n",
    "import matplotlib.pyplot as plt"
   ]
  },
  {
   "cell_type": "code",
   "execution_count": 10,
   "id": "4c1af82e",
   "metadata": {},
   "outputs": [],
   "source": [
    "df.loc[(df['stars']==1)|(df['stars']==2),'sentiment']='negative'\n",
    "df.loc[(df['stars']==3),'sentiment']='neutral'\n",
    "df.loc[(df['stars']==4)|(df['stars']==5),'sentiment']='positive'"
   ]
  },
  {
   "cell_type": "code",
   "execution_count": 11,
   "id": "35853f5f",
   "metadata": {},
   "outputs": [
    {
     "data": {
      "text/html": [
       "<div>\n",
       "<style scoped>\n",
       "    .dataframe tbody tr th:only-of-type {\n",
       "        vertical-align: middle;\n",
       "    }\n",
       "\n",
       "    .dataframe tbody tr th {\n",
       "        vertical-align: top;\n",
       "    }\n",
       "\n",
       "    .dataframe thead th {\n",
       "        text-align: right;\n",
       "    }\n",
       "</style>\n",
       "<table border=\"1\" class=\"dataframe\">\n",
       "  <thead>\n",
       "    <tr style=\"text-align: right;\">\n",
       "      <th></th>\n",
       "      <th>Unnamed: 0</th>\n",
       "      <th>review_id</th>\n",
       "      <th>user_id</th>\n",
       "      <th>business_id</th>\n",
       "      <th>stars</th>\n",
       "      <th>useful</th>\n",
       "      <th>funny</th>\n",
       "      <th>cool</th>\n",
       "      <th>text</th>\n",
       "      <th>date</th>\n",
       "      <th>sentiment</th>\n",
       "    </tr>\n",
       "  </thead>\n",
       "  <tbody>\n",
       "    <tr>\n",
       "      <th>0</th>\n",
       "      <td>2370338</td>\n",
       "      <td>_WTGv5XnA-qb_XD1D7Z0jg</td>\n",
       "      <td>6PgdGb3HrZdsfl2GiULo8w</td>\n",
       "      <td>RESDUcs7fIiihp38-d6_6g</td>\n",
       "      <td>5</td>\n",
       "      <td>0</td>\n",
       "      <td>1</td>\n",
       "      <td>0</td>\n",
       "      <td>after getting food poisoning at the palms hote...</td>\n",
       "      <td>2012-12-04 03:10:18</td>\n",
       "      <td>positive</td>\n",
       "    </tr>\n",
       "    <tr>\n",
       "      <th>1</th>\n",
       "      <td>2370357</td>\n",
       "      <td>JlNnsvMPLK_1-X2hwzK24w</td>\n",
       "      <td>IS9yw8P2uAPBX6FNLLX4KA</td>\n",
       "      <td>RESDUcs7fIiihp38-d6_6g</td>\n",
       "      <td>4</td>\n",
       "      <td>39</td>\n",
       "      <td>21</td>\n",
       "      <td>29</td>\n",
       "      <td>a feast worthy of godsbaccarnal buffet in caes...</td>\n",
       "      <td>2014-01-17 00:50:50</td>\n",
       "      <td>positive</td>\n",
       "    </tr>\n",
       "    <tr>\n",
       "      <th>2</th>\n",
       "      <td>2370373</td>\n",
       "      <td>hBkoWffORRb6aqKhC_Li2A</td>\n",
       "      <td>uZdFsE_aHbFBChgN6Xa8tw</td>\n",
       "      <td>RESDUcs7fIiihp38-d6_6g</td>\n",
       "      <td>4</td>\n",
       "      <td>1</td>\n",
       "      <td>1</td>\n",
       "      <td>1</td>\n",
       "      <td>the crab legs are better than the ones at wick...</td>\n",
       "      <td>2015-06-08 18:03:09</td>\n",
       "      <td>positive</td>\n",
       "    </tr>\n",
       "    <tr>\n",
       "      <th>3</th>\n",
       "      <td>2370411</td>\n",
       "      <td>rbkxvrgZg5kdCL2a66QYmA</td>\n",
       "      <td>8ZWJNAEWsymXDzKx3B0tTQ</td>\n",
       "      <td>RESDUcs7fIiihp38-d6_6g</td>\n",
       "      <td>1</td>\n",
       "      <td>0</td>\n",
       "      <td>0</td>\n",
       "      <td>0</td>\n",
       "      <td>not worth it too salty food and expensive this...</td>\n",
       "      <td>2016-12-19 16:15:29</td>\n",
       "      <td>negative</td>\n",
       "    </tr>\n",
       "    <tr>\n",
       "      <th>4</th>\n",
       "      <td>2370500</td>\n",
       "      <td>5tw_pedoHVi9bgeiBNsISg</td>\n",
       "      <td>E0sm4Ve7ifanFYeQMcV8Eg</td>\n",
       "      <td>RESDUcs7fIiihp38-d6_6g</td>\n",
       "      <td>5</td>\n",
       "      <td>0</td>\n",
       "      <td>0</td>\n",
       "      <td>0</td>\n",
       "      <td>i would give this infinite stars if i could my...</td>\n",
       "      <td>2015-07-28 07:13:17</td>\n",
       "      <td>positive</td>\n",
       "    </tr>\n",
       "  </tbody>\n",
       "</table>\n",
       "</div>"
      ],
      "text/plain": [
       "   Unnamed: 0               review_id                 user_id  \\\n",
       "0     2370338  _WTGv5XnA-qb_XD1D7Z0jg  6PgdGb3HrZdsfl2GiULo8w   \n",
       "1     2370357  JlNnsvMPLK_1-X2hwzK24w  IS9yw8P2uAPBX6FNLLX4KA   \n",
       "2     2370373  hBkoWffORRb6aqKhC_Li2A  uZdFsE_aHbFBChgN6Xa8tw   \n",
       "3     2370411  rbkxvrgZg5kdCL2a66QYmA  8ZWJNAEWsymXDzKx3B0tTQ   \n",
       "4     2370500  5tw_pedoHVi9bgeiBNsISg  E0sm4Ve7ifanFYeQMcV8Eg   \n",
       "\n",
       "              business_id  stars  useful  funny  cool  \\\n",
       "0  RESDUcs7fIiihp38-d6_6g      5       0      1     0   \n",
       "1  RESDUcs7fIiihp38-d6_6g      4      39     21    29   \n",
       "2  RESDUcs7fIiihp38-d6_6g      4       1      1     1   \n",
       "3  RESDUcs7fIiihp38-d6_6g      1       0      0     0   \n",
       "4  RESDUcs7fIiihp38-d6_6g      5       0      0     0   \n",
       "\n",
       "                                                text                 date  \\\n",
       "0  after getting food poisoning at the palms hote...  2012-12-04 03:10:18   \n",
       "1  a feast worthy of godsbaccarnal buffet in caes...  2014-01-17 00:50:50   \n",
       "2  the crab legs are better than the ones at wick...  2015-06-08 18:03:09   \n",
       "3  not worth it too salty food and expensive this...  2016-12-19 16:15:29   \n",
       "4  i would give this infinite stars if i could my...  2015-07-28 07:13:17   \n",
       "\n",
       "  sentiment  \n",
       "0  positive  \n",
       "1  positive  \n",
       "2  positive  \n",
       "3  negative  \n",
       "4  positive  "
      ]
     },
     "execution_count": 11,
     "metadata": {},
     "output_type": "execute_result"
    }
   ],
   "source": [
    "df.head()"
   ]
  },
  {
   "cell_type": "code",
   "execution_count": 12,
   "id": "7ac00a2e",
   "metadata": {},
   "outputs": [],
   "source": [
    "from langdetect import detect_langs\n",
    "language = [detect_langs(i) for i in df.text]\n",
    "languages = [str(i[0]).split(':')[0] for i in language]\n",
    "df['language'] = languages"
   ]
  },
  {
   "cell_type": "code",
   "execution_count": 13,
   "id": "f994bdee",
   "metadata": {},
   "outputs": [
    {
     "data": {
      "text/html": [
       "<div>\n",
       "<style scoped>\n",
       "    .dataframe tbody tr th:only-of-type {\n",
       "        vertical-align: middle;\n",
       "    }\n",
       "\n",
       "    .dataframe tbody tr th {\n",
       "        vertical-align: top;\n",
       "    }\n",
       "\n",
       "    .dataframe thead th {\n",
       "        text-align: right;\n",
       "    }\n",
       "</style>\n",
       "<table border=\"1\" class=\"dataframe\">\n",
       "  <thead>\n",
       "    <tr style=\"text-align: right;\">\n",
       "      <th></th>\n",
       "      <th>Unnamed: 0</th>\n",
       "      <th>review_id</th>\n",
       "      <th>user_id</th>\n",
       "      <th>business_id</th>\n",
       "      <th>stars</th>\n",
       "      <th>useful</th>\n",
       "      <th>funny</th>\n",
       "      <th>cool</th>\n",
       "      <th>text</th>\n",
       "      <th>date</th>\n",
       "      <th>sentiment</th>\n",
       "      <th>language</th>\n",
       "    </tr>\n",
       "  </thead>\n",
       "  <tbody>\n",
       "    <tr>\n",
       "      <th>0</th>\n",
       "      <td>2370338</td>\n",
       "      <td>_WTGv5XnA-qb_XD1D7Z0jg</td>\n",
       "      <td>6PgdGb3HrZdsfl2GiULo8w</td>\n",
       "      <td>RESDUcs7fIiihp38-d6_6g</td>\n",
       "      <td>5</td>\n",
       "      <td>0</td>\n",
       "      <td>1</td>\n",
       "      <td>0</td>\n",
       "      <td>after getting food poisoning at the palms hote...</td>\n",
       "      <td>2012-12-04 03:10:18</td>\n",
       "      <td>positive</td>\n",
       "      <td>en</td>\n",
       "    </tr>\n",
       "    <tr>\n",
       "      <th>1</th>\n",
       "      <td>2370357</td>\n",
       "      <td>JlNnsvMPLK_1-X2hwzK24w</td>\n",
       "      <td>IS9yw8P2uAPBX6FNLLX4KA</td>\n",
       "      <td>RESDUcs7fIiihp38-d6_6g</td>\n",
       "      <td>4</td>\n",
       "      <td>39</td>\n",
       "      <td>21</td>\n",
       "      <td>29</td>\n",
       "      <td>a feast worthy of godsbaccarnal buffet in caes...</td>\n",
       "      <td>2014-01-17 00:50:50</td>\n",
       "      <td>positive</td>\n",
       "      <td>en</td>\n",
       "    </tr>\n",
       "    <tr>\n",
       "      <th>2</th>\n",
       "      <td>2370373</td>\n",
       "      <td>hBkoWffORRb6aqKhC_Li2A</td>\n",
       "      <td>uZdFsE_aHbFBChgN6Xa8tw</td>\n",
       "      <td>RESDUcs7fIiihp38-d6_6g</td>\n",
       "      <td>4</td>\n",
       "      <td>1</td>\n",
       "      <td>1</td>\n",
       "      <td>1</td>\n",
       "      <td>the crab legs are better than the ones at wick...</td>\n",
       "      <td>2015-06-08 18:03:09</td>\n",
       "      <td>positive</td>\n",
       "      <td>en</td>\n",
       "    </tr>\n",
       "    <tr>\n",
       "      <th>3</th>\n",
       "      <td>2370411</td>\n",
       "      <td>rbkxvrgZg5kdCL2a66QYmA</td>\n",
       "      <td>8ZWJNAEWsymXDzKx3B0tTQ</td>\n",
       "      <td>RESDUcs7fIiihp38-d6_6g</td>\n",
       "      <td>1</td>\n",
       "      <td>0</td>\n",
       "      <td>0</td>\n",
       "      <td>0</td>\n",
       "      <td>not worth it too salty food and expensive this...</td>\n",
       "      <td>2016-12-19 16:15:29</td>\n",
       "      <td>negative</td>\n",
       "      <td>en</td>\n",
       "    </tr>\n",
       "    <tr>\n",
       "      <th>4</th>\n",
       "      <td>2370500</td>\n",
       "      <td>5tw_pedoHVi9bgeiBNsISg</td>\n",
       "      <td>E0sm4Ve7ifanFYeQMcV8Eg</td>\n",
       "      <td>RESDUcs7fIiihp38-d6_6g</td>\n",
       "      <td>5</td>\n",
       "      <td>0</td>\n",
       "      <td>0</td>\n",
       "      <td>0</td>\n",
       "      <td>i would give this infinite stars if i could my...</td>\n",
       "      <td>2015-07-28 07:13:17</td>\n",
       "      <td>positive</td>\n",
       "      <td>en</td>\n",
       "    </tr>\n",
       "  </tbody>\n",
       "</table>\n",
       "</div>"
      ],
      "text/plain": [
       "   Unnamed: 0               review_id                 user_id  \\\n",
       "0     2370338  _WTGv5XnA-qb_XD1D7Z0jg  6PgdGb3HrZdsfl2GiULo8w   \n",
       "1     2370357  JlNnsvMPLK_1-X2hwzK24w  IS9yw8P2uAPBX6FNLLX4KA   \n",
       "2     2370373  hBkoWffORRb6aqKhC_Li2A  uZdFsE_aHbFBChgN6Xa8tw   \n",
       "3     2370411  rbkxvrgZg5kdCL2a66QYmA  8ZWJNAEWsymXDzKx3B0tTQ   \n",
       "4     2370500  5tw_pedoHVi9bgeiBNsISg  E0sm4Ve7ifanFYeQMcV8Eg   \n",
       "\n",
       "              business_id  stars  useful  funny  cool  \\\n",
       "0  RESDUcs7fIiihp38-d6_6g      5       0      1     0   \n",
       "1  RESDUcs7fIiihp38-d6_6g      4      39     21    29   \n",
       "2  RESDUcs7fIiihp38-d6_6g      4       1      1     1   \n",
       "3  RESDUcs7fIiihp38-d6_6g      1       0      0     0   \n",
       "4  RESDUcs7fIiihp38-d6_6g      5       0      0     0   \n",
       "\n",
       "                                                text                 date  \\\n",
       "0  after getting food poisoning at the palms hote...  2012-12-04 03:10:18   \n",
       "1  a feast worthy of godsbaccarnal buffet in caes...  2014-01-17 00:50:50   \n",
       "2  the crab legs are better than the ones at wick...  2015-06-08 18:03:09   \n",
       "3  not worth it too salty food and expensive this...  2016-12-19 16:15:29   \n",
       "4  i would give this infinite stars if i could my...  2015-07-28 07:13:17   \n",
       "\n",
       "  sentiment language  \n",
       "0  positive       en  \n",
       "1  positive       en  \n",
       "2  positive       en  \n",
       "3  negative       en  \n",
       "4  positive       en  "
      ]
     },
     "execution_count": 13,
     "metadata": {},
     "output_type": "execute_result"
    }
   ],
   "source": [
    "df.head()"
   ]
  },
  {
   "cell_type": "code",
   "execution_count": 18,
   "id": "2398f1f3",
   "metadata": {},
   "outputs": [
    {
     "data": {
      "text/plain": [
       "<Axes: xlabel='language', ylabel='count'>"
      ]
     },
     "execution_count": 18,
     "metadata": {},
     "output_type": "execute_result"
    },
    {
     "data": {
      "image/png": "[encoded data removed]",
      "text/plain": [
       "<Figure size 640x480 with 1 Axes>"
      ]
     },
     "metadata": {},
     "output_type": "display_data"
    }
   ],
   "source": [
    "sns.countplot(x=df[\"language\"])"
   ]
  },
  {
   "cell_type": "code",
   "execution_count": 14,
   "id": "08da45e2",
   "metadata": {},
   "outputs": [
    {
     "data": {
      "text/plain": [
       "en       10373\n",
       "es          10\n",
       "zh-cn        7\n",
       "ja           7\n",
       "ko           6\n",
       "fr           5\n",
       "de           4\n",
       "da           2\n",
       "sw           1\n",
       "pt           1\n",
       "sk           1\n",
       "Name: language, dtype: int64"
      ]
     },
     "execution_count": 14,
     "metadata": {},
     "output_type": "execute_result"
    }
   ],
   "source": [
    "df[\"language\"].value_counts().sort_values(ascending=False)"
   ]
  },
  {
   "cell_type": "code",
   "execution_count": 15,
   "id": "09fb45c3",
   "metadata": {},
   "outputs": [
    {
     "data": {
      "text/html": [
       "<div>\n",
       "<style scoped>\n",
       "    .dataframe tbody tr th:only-of-type {\n",
       "        vertical-align: middle;\n",
       "    }\n",
       "\n",
       "    .dataframe tbody tr th {\n",
       "        vertical-align: top;\n",
       "    }\n",
       "\n",
       "    .dataframe thead th {\n",
       "        text-align: right;\n",
       "    }\n",
       "</style>\n",
       "<table border=\"1\" class=\"dataframe\">\n",
       "  <thead>\n",
       "    <tr style=\"text-align: right;\">\n",
       "      <th></th>\n",
       "      <th>Unnamed: 0</th>\n",
       "      <th>review_id</th>\n",
       "      <th>user_id</th>\n",
       "      <th>business_id</th>\n",
       "      <th>stars</th>\n",
       "      <th>useful</th>\n",
       "      <th>funny</th>\n",
       "      <th>cool</th>\n",
       "      <th>text</th>\n",
       "      <th>date</th>\n",
       "      <th>sentiment</th>\n",
       "      <th>language</th>\n",
       "    </tr>\n",
       "  </thead>\n",
       "  <tbody>\n",
       "    <tr>\n",
       "      <th>0</th>\n",
       "      <td>2370338</td>\n",
       "      <td>_WTGv5XnA-qb_XD1D7Z0jg</td>\n",
       "      <td>6PgdGb3HrZdsfl2GiULo8w</td>\n",
       "      <td>RESDUcs7fIiihp38-d6_6g</td>\n",
       "      <td>5</td>\n",
       "      <td>0</td>\n",
       "      <td>1</td>\n",
       "      <td>0</td>\n",
       "      <td>after getting food poisoning at the palms hote...</td>\n",
       "      <td>2012-12-04 03:10:18</td>\n",
       "      <td>positive</td>\n",
       "      <td>en</td>\n",
       "    </tr>\n",
       "    <tr>\n",
       "      <th>1</th>\n",
       "      <td>2370357</td>\n",
       "      <td>JlNnsvMPLK_1-X2hwzK24w</td>\n",
       "      <td>IS9yw8P2uAPBX6FNLLX4KA</td>\n",
       "      <td>RESDUcs7fIiihp38-d6_6g</td>\n",
       "      <td>4</td>\n",
       "      <td>39</td>\n",
       "      <td>21</td>\n",
       "      <td>29</td>\n",
       "      <td>a feast worthy of godsbaccarnal buffet in caes...</td>\n",
       "      <td>2014-01-17 00:50:50</td>\n",
       "      <td>positive</td>\n",
       "      <td>en</td>\n",
       "    </tr>\n",
       "    <tr>\n",
       "      <th>2</th>\n",
       "      <td>2370373</td>\n",
       "      <td>hBkoWffORRb6aqKhC_Li2A</td>\n",
       "      <td>uZdFsE_aHbFBChgN6Xa8tw</td>\n",
       "      <td>RESDUcs7fIiihp38-d6_6g</td>\n",
       "      <td>4</td>\n",
       "      <td>1</td>\n",
       "      <td>1</td>\n",
       "      <td>1</td>\n",
       "      <td>the crab legs are better than the ones at wick...</td>\n",
       "      <td>2015-06-08 18:03:09</td>\n",
       "      <td>positive</td>\n",
       "      <td>en</td>\n",
       "    </tr>\n",
       "    <tr>\n",
       "      <th>3</th>\n",
       "      <td>2370411</td>\n",
       "      <td>rbkxvrgZg5kdCL2a66QYmA</td>\n",
       "      <td>8ZWJNAEWsymXDzKx3B0tTQ</td>\n",
       "      <td>RESDUcs7fIiihp38-d6_6g</td>\n",
       "      <td>1</td>\n",
       "      <td>0</td>\n",
       "      <td>0</td>\n",
       "      <td>0</td>\n",
       "      <td>not worth it too salty food and expensive this...</td>\n",
       "      <td>2016-12-19 16:15:29</td>\n",
       "      <td>negative</td>\n",
       "      <td>en</td>\n",
       "    </tr>\n",
       "    <tr>\n",
       "      <th>4</th>\n",
       "      <td>2370500</td>\n",
       "      <td>5tw_pedoHVi9bgeiBNsISg</td>\n",
       "      <td>E0sm4Ve7ifanFYeQMcV8Eg</td>\n",
       "      <td>RESDUcs7fIiihp38-d6_6g</td>\n",
       "      <td>5</td>\n",
       "      <td>0</td>\n",
       "      <td>0</td>\n",
       "      <td>0</td>\n",
       "      <td>i would give this infinite stars if i could my...</td>\n",
       "      <td>2015-07-28 07:13:17</td>\n",
       "      <td>positive</td>\n",
       "      <td>en</td>\n",
       "    </tr>\n",
       "    <tr>\n",
       "      <th>...</th>\n",
       "      <td>...</td>\n",
       "      <td>...</td>\n",
       "      <td>...</td>\n",
       "      <td>...</td>\n",
       "      <td>...</td>\n",
       "      <td>...</td>\n",
       "      <td>...</td>\n",
       "      <td>...</td>\n",
       "      <td>...</td>\n",
       "      <td>...</td>\n",
       "      <td>...</td>\n",
       "      <td>...</td>\n",
       "    </tr>\n",
       "    <tr>\n",
       "      <th>10412</th>\n",
       "      <td>3220114</td>\n",
       "      <td>46xWDTFPZI9u6waHm78EKw</td>\n",
       "      <td>CT57mpNepL9q9sTYFqRbLQ</td>\n",
       "      <td>RESDUcs7fIiihp38-d6_6g</td>\n",
       "      <td>5</td>\n",
       "      <td>0</td>\n",
       "      <td>0</td>\n",
       "      <td>0</td>\n",
       "      <td>best buffet ever irma was great served us bett...</td>\n",
       "      <td>2019-11-17 20:39:36</td>\n",
       "      <td>positive</td>\n",
       "      <td>en</td>\n",
       "    </tr>\n",
       "    <tr>\n",
       "      <th>10413</th>\n",
       "      <td>3220152</td>\n",
       "      <td>gbBau-2wy3_kNr2y6dEa1Q</td>\n",
       "      <td>c-j3TV1F8rI6bQUD6nqGPQ</td>\n",
       "      <td>RESDUcs7fIiihp38-d6_6g</td>\n",
       "      <td>4</td>\n",
       "      <td>3</td>\n",
       "      <td>0</td>\n",
       "      <td>3</td>\n",
       "      <td>hollllllyyyy moleyyyy this buffet was one for ...</td>\n",
       "      <td>2019-11-12 02:23:07</td>\n",
       "      <td>positive</td>\n",
       "      <td>en</td>\n",
       "    </tr>\n",
       "    <tr>\n",
       "      <th>10414</th>\n",
       "      <td>3220255</td>\n",
       "      <td>2wFmrsm8j1cyyG-DoMqKUw</td>\n",
       "      <td>kbylx63ynkXL8YBJzVfNnQ</td>\n",
       "      <td>RESDUcs7fIiihp38-d6_6g</td>\n",
       "      <td>5</td>\n",
       "      <td>0</td>\n",
       "      <td>0</td>\n",
       "      <td>0</td>\n",
       "      <td>the selection is amazing and all the food is e...</td>\n",
       "      <td>2019-12-12 03:27:22</td>\n",
       "      <td>positive</td>\n",
       "      <td>en</td>\n",
       "    </tr>\n",
       "    <tr>\n",
       "      <th>10415</th>\n",
       "      <td>3220306</td>\n",
       "      <td>75nzyA96_BgVrpflweAA3w</td>\n",
       "      <td>6rEG-G4syq5IvWti4tyPXA</td>\n",
       "      <td>RESDUcs7fIiihp38-d6_6g</td>\n",
       "      <td>4</td>\n",
       "      <td>1</td>\n",
       "      <td>1</td>\n",
       "      <td>2</td>\n",
       "      <td>one of the best buffets ive had in vegas my on...</td>\n",
       "      <td>2019-11-01 21:00:51</td>\n",
       "      <td>positive</td>\n",
       "      <td>en</td>\n",
       "    </tr>\n",
       "    <tr>\n",
       "      <th>10416</th>\n",
       "      <td>3220316</td>\n",
       "      <td>mMa_YQNBJfuh_Nw_x81jlw</td>\n",
       "      <td>GsALS1y9wJoBRJTEzJiISg</td>\n",
       "      <td>RESDUcs7fIiihp38-d6_6g</td>\n",
       "      <td>4</td>\n",
       "      <td>1</td>\n",
       "      <td>1</td>\n",
       "      <td>1</td>\n",
       "      <td>i got a chance to go to the bacchanal buffett ...</td>\n",
       "      <td>2019-11-30 22:36:56</td>\n",
       "      <td>positive</td>\n",
       "      <td>en</td>\n",
       "    </tr>\n",
       "  </tbody>\n",
       "</table>\n",
       "<p>10373 rows × 12 columns</p>\n",
       "</div>"
      ],
      "text/plain": [
       "       Unnamed: 0               review_id                 user_id  \\\n",
       "0         2370338  _WTGv5XnA-qb_XD1D7Z0jg  6PgdGb3HrZdsfl2GiULo8w   \n",
       "1         2370357  JlNnsvMPLK_1-X2hwzK24w  IS9yw8P2uAPBX6FNLLX4KA   \n",
       "2         2370373  hBkoWffORRb6aqKhC_Li2A  uZdFsE_aHbFBChgN6Xa8tw   \n",
       "3         2370411  rbkxvrgZg5kdCL2a66QYmA  8ZWJNAEWsymXDzKx3B0tTQ   \n",
       "4         2370500  5tw_pedoHVi9bgeiBNsISg  E0sm4Ve7ifanFYeQMcV8Eg   \n",
       "...           ...                     ...                     ...   \n",
       "10412     3220114  46xWDTFPZI9u6waHm78EKw  CT57mpNepL9q9sTYFqRbLQ   \n",
       "10413     3220152  gbBau-2wy3_kNr2y6dEa1Q  c-j3TV1F8rI6bQUD6nqGPQ   \n",
       "10414     3220255  2wFmrsm8j1cyyG-DoMqKUw  kbylx63ynkXL8YBJzVfNnQ   \n",
       "10415     3220306  75nzyA96_BgVrpflweAA3w  6rEG-G4syq5IvWti4tyPXA   \n",
       "10416     3220316  mMa_YQNBJfuh_Nw_x81jlw  GsALS1y9wJoBRJTEzJiISg   \n",
       "\n",
       "                  business_id  stars  useful  funny  cool  \\\n",
       "0      RESDUcs7fIiihp38-d6_6g      5       0      1     0   \n",
       "1      RESDUcs7fIiihp38-d6_6g      4      39     21    29   \n",
       "2      RESDUcs7fIiihp38-d6_6g      4       1      1     1   \n",
       "3      RESDUcs7fIiihp38-d6_6g      1       0      0     0   \n",
       "4      RESDUcs7fIiihp38-d6_6g      5       0      0     0   \n",
       "...                       ...    ...     ...    ...   ...   \n",
       "10412  RESDUcs7fIiihp38-d6_6g      5       0      0     0   \n",
       "10413  RESDUcs7fIiihp38-d6_6g      4       3      0     3   \n",
       "10414  RESDUcs7fIiihp38-d6_6g      5       0      0     0   \n",
       "10415  RESDUcs7fIiihp38-d6_6g      4       1      1     2   \n",
       "10416  RESDUcs7fIiihp38-d6_6g      4       1      1     1   \n",
       "\n",
       "                                                    text                 date  \\\n",
       "0      after getting food poisoning at the palms hote...  2012-12-04 03:10:18   \n",
       "1      a feast worthy of godsbaccarnal buffet in caes...  2014-01-17 00:50:50   \n",
       "2      the crab legs are better than the ones at wick...  2015-06-08 18:03:09   \n",
       "3      not worth it too salty food and expensive this...  2016-12-19 16:15:29   \n",
       "4      i would give this infinite stars if i could my...  2015-07-28 07:13:17   \n",
       "...                                                  ...                  ...   \n",
       "10412  best buffet ever irma was great served us bett...  2019-11-17 20:39:36   \n",
       "10413  hollllllyyyy moleyyyy this buffet was one for ...  2019-11-12 02:23:07   \n",
       "10414  the selection is amazing and all the food is e...  2019-12-12 03:27:22   \n",
       "10415  one of the best buffets ive had in vegas my on...  2019-11-01 21:00:51   \n",
       "10416  i got a chance to go to the bacchanal buffett ...  2019-11-30 22:36:56   \n",
       "\n",
       "      sentiment language  \n",
       "0      positive       en  \n",
       "1      positive       en  \n",
       "2      positive       en  \n",
       "3      negative       en  \n",
       "4      positive       en  \n",
       "...         ...      ...  \n",
       "10412  positive       en  \n",
       "10413  positive       en  \n",
       "10414  positive       en  \n",
       "10415  positive       en  \n",
       "10416  positive       en  \n",
       "\n",
       "[10373 rows x 12 columns]"
      ]
     },
     "execution_count": 15,
     "metadata": {},
     "output_type": "execute_result"
    }
   ],
   "source": [
    "from langdetect import detect\n",
    "df['language']=df['text'].apply(detect)\n",
    "df=df[df['language']=='en']\n",
    "df"
   ]
  },
  {
   "cell_type": "code",
   "execution_count": 16,
   "id": "9438d69f",
   "metadata": {},
   "outputs": [
    {
     "data": {
      "text/plain": [
       "en    10373\n",
       "Name: language, dtype: int64"
      ]
     },
     "execution_count": 16,
     "metadata": {},
     "output_type": "execute_result"
    }
   ],
   "source": [
    "df[\"language\"].value_counts().sort_values(ascending=False)"
   ]
  },
  {
   "cell_type": "code",
   "execution_count": 17,
   "id": "65d48cd4",
   "metadata": {},
   "outputs": [],
   "source": [
    "df=df[df['language']=='en']\n",
    "df.reset_index(drop=True,inplace=True)"
   ]
  },
  {
   "cell_type": "code",
   "execution_count": 18,
   "id": "0be1691c",
   "metadata": {},
   "outputs": [
    {
     "name": "stderr",
     "output_type": "stream",
     "text": [
      "[nltk_data] Downloading package punkt to\n",
      "[nltk_data]     C:\\Users\\telha\\AppData\\Roaming\\nltk_data...\n",
      "[nltk_data]   Package punkt is already up-to-date!\n"
     ]
    },
    {
     "data": {
      "text/plain": [
       "True"
      ]
     },
     "execution_count": 18,
     "metadata": {},
     "output_type": "execute_result"
    }
   ],
   "source": [
    "nltk.download('punkt')"
   ]
  },
  {
   "cell_type": "code",
   "execution_count": 19,
   "id": "98184529",
   "metadata": {},
   "outputs": [],
   "source": [
    "df=df[['stars','text','sentiment']]"
   ]
  },
  {
   "cell_type": "code",
   "execution_count": 20,
   "id": "66142d03",
   "metadata": {},
   "outputs": [
    {
     "data": {
      "text/html": [
       "<div>\n",
       "<style scoped>\n",
       "    .dataframe tbody tr th:only-of-type {\n",
       "        vertical-align: middle;\n",
       "    }\n",
       "\n",
       "    .dataframe tbody tr th {\n",
       "        vertical-align: top;\n",
       "    }\n",
       "\n",
       "    .dataframe thead th {\n",
       "        text-align: right;\n",
       "    }\n",
       "</style>\n",
       "<table border=\"1\" class=\"dataframe\">\n",
       "  <thead>\n",
       "    <tr style=\"text-align: right;\">\n",
       "      <th></th>\n",
       "      <th>stars</th>\n",
       "      <th>text</th>\n",
       "      <th>sentiment</th>\n",
       "    </tr>\n",
       "  </thead>\n",
       "  <tbody>\n",
       "    <tr>\n",
       "      <th>0</th>\n",
       "      <td>5</td>\n",
       "      <td>after getting food poisoning at the palms hote...</td>\n",
       "      <td>positive</td>\n",
       "    </tr>\n",
       "    <tr>\n",
       "      <th>1</th>\n",
       "      <td>4</td>\n",
       "      <td>a feast worthy of godsbaccarnal buffet in caes...</td>\n",
       "      <td>positive</td>\n",
       "    </tr>\n",
       "    <tr>\n",
       "      <th>2</th>\n",
       "      <td>4</td>\n",
       "      <td>the crab legs are better than the ones at wick...</td>\n",
       "      <td>positive</td>\n",
       "    </tr>\n",
       "    <tr>\n",
       "      <th>3</th>\n",
       "      <td>1</td>\n",
       "      <td>not worth it too salty food and expensive this...</td>\n",
       "      <td>negative</td>\n",
       "    </tr>\n",
       "    <tr>\n",
       "      <th>4</th>\n",
       "      <td>5</td>\n",
       "      <td>i would give this infinite stars if i could my...</td>\n",
       "      <td>positive</td>\n",
       "    </tr>\n",
       "    <tr>\n",
       "      <th>...</th>\n",
       "      <td>...</td>\n",
       "      <td>...</td>\n",
       "      <td>...</td>\n",
       "    </tr>\n",
       "    <tr>\n",
       "      <th>10368</th>\n",
       "      <td>5</td>\n",
       "      <td>best buffet ever irma was great served us bett...</td>\n",
       "      <td>positive</td>\n",
       "    </tr>\n",
       "    <tr>\n",
       "      <th>10369</th>\n",
       "      <td>4</td>\n",
       "      <td>hollllllyyyy moleyyyy this buffet was one for ...</td>\n",
       "      <td>positive</td>\n",
       "    </tr>\n",
       "    <tr>\n",
       "      <th>10370</th>\n",
       "      <td>5</td>\n",
       "      <td>the selection is amazing and all the food is e...</td>\n",
       "      <td>positive</td>\n",
       "    </tr>\n",
       "    <tr>\n",
       "      <th>10371</th>\n",
       "      <td>4</td>\n",
       "      <td>one of the best buffets ive had in vegas my on...</td>\n",
       "      <td>positive</td>\n",
       "    </tr>\n",
       "    <tr>\n",
       "      <th>10372</th>\n",
       "      <td>4</td>\n",
       "      <td>i got a chance to go to the bacchanal buffett ...</td>\n",
       "      <td>positive</td>\n",
       "    </tr>\n",
       "  </tbody>\n",
       "</table>\n",
       "<p>10373 rows × 3 columns</p>\n",
       "</div>"
      ],
      "text/plain": [
       "       stars                                               text sentiment\n",
       "0          5  after getting food poisoning at the palms hote...  positive\n",
       "1          4  a feast worthy of godsbaccarnal buffet in caes...  positive\n",
       "2          4  the crab legs are better than the ones at wick...  positive\n",
       "3          1  not worth it too salty food and expensive this...  negative\n",
       "4          5  i would give this infinite stars if i could my...  positive\n",
       "...      ...                                                ...       ...\n",
       "10368      5  best buffet ever irma was great served us bett...  positive\n",
       "10369      4  hollllllyyyy moleyyyy this buffet was one for ...  positive\n",
       "10370      5  the selection is amazing and all the food is e...  positive\n",
       "10371      4  one of the best buffets ive had in vegas my on...  positive\n",
       "10372      4  i got a chance to go to the bacchanal buffett ...  positive\n",
       "\n",
       "[10373 rows x 3 columns]"
      ]
     },
     "execution_count": 20,
     "metadata": {},
     "output_type": "execute_result"
    }
   ],
   "source": [
    "df"
   ]
  },
  {
   "cell_type": "code",
   "execution_count": 21,
   "id": "3ce1b543",
   "metadata": {},
   "outputs": [
    {
     "data": {
      "text/plain": [
       "5    4226\n",
       "4    2626\n",
       "3    1557\n",
       "1    1051\n",
       "2     913\n",
       "Name: stars, dtype: int64"
      ]
     },
     "execution_count": 21,
     "metadata": {},
     "output_type": "execute_result"
    }
   ],
   "source": [
    "df.stars.value_counts().sort_values(ascending=False)"
   ]
  },
  {
   "cell_type": "code",
   "execution_count": 22,
   "id": "74946328",
   "metadata": {},
   "outputs": [],
   "source": [
    "negative_data=df[df['sentiment']==\"negative\"]['text']\n",
    "positive_data=df[df['sentiment']==\"positive\"]['text']\n",
    "neutral_data=df[df['sentiment']==\"neutral\"]['text']"
   ]
  },
  {
   "cell_type": "code",
   "execution_count": 23,
   "id": "0b0586f2",
   "metadata": {},
   "outputs": [
    {
     "data": {
      "text/plain": [
       "positive    6852\n",
       "negative    1964\n",
       "neutral     1557\n",
       "Name: sentiment, dtype: int64"
      ]
     },
     "execution_count": 23,
     "metadata": {},
     "output_type": "execute_result"
    }
   ],
   "source": [
    "df.sentiment.value_counts().sort_values(ascending=False)"
   ]
  },
  {
   "cell_type": "code",
   "execution_count": 24,
   "id": "36a32b70",
   "metadata": {},
   "outputs": [
    {
     "data": {
      "text/plain": [
       "3        not worth it too salty food and expensive this...\n",
       "12       food is fine better than most buffets when i r...\n",
       "29       so i come here on my birthday thinking its the...\n",
       "33       be careful using the restroom here while i was...\n",
       "42       what a money pit food was terrible and not lab...\n",
       "                               ...                        \n",
       "10346    i  have eaten here for the breakfast and lunch...\n",
       "10350    in thanksgiving day i stayed in line for three...\n",
       "10357    i went to the wicked spoon at cosmopolitan and...\n",
       "10358    i am one disappointed buffetloving foodie we f...\n",
       "10366    came him from la thanksgiving week we decided ...\n",
       "Name: text, Length: 1964, dtype: object"
      ]
     },
     "execution_count": 24,
     "metadata": {},
     "output_type": "execute_result"
    }
   ],
   "source": [
    "negative_data"
   ]
  },
  {
   "cell_type": "code",
   "execution_count": 25,
   "id": "63ca2f0d",
   "metadata": {},
   "outputs": [],
   "source": [
    "iyivekotu=df[(df['stars']==5)| (df['stars']==1)]"
   ]
  },
  {
   "cell_type": "code",
   "execution_count": 26,
   "id": "b8c98401",
   "metadata": {},
   "outputs": [
    {
     "data": {
      "text/html": [
       "<div>\n",
       "<style scoped>\n",
       "    .dataframe tbody tr th:only-of-type {\n",
       "        vertical-align: middle;\n",
       "    }\n",
       "\n",
       "    .dataframe tbody tr th {\n",
       "        vertical-align: top;\n",
       "    }\n",
       "\n",
       "    .dataframe thead th {\n",
       "        text-align: right;\n",
       "    }\n",
       "</style>\n",
       "<table border=\"1\" class=\"dataframe\">\n",
       "  <thead>\n",
       "    <tr style=\"text-align: right;\">\n",
       "      <th></th>\n",
       "      <th>stars</th>\n",
       "      <th>text</th>\n",
       "      <th>sentiment</th>\n",
       "    </tr>\n",
       "  </thead>\n",
       "  <tbody>\n",
       "    <tr>\n",
       "      <th>0</th>\n",
       "      <td>5</td>\n",
       "      <td>after getting food poisoning at the palms hote...</td>\n",
       "      <td>positive</td>\n",
       "    </tr>\n",
       "    <tr>\n",
       "      <th>3</th>\n",
       "      <td>1</td>\n",
       "      <td>not worth it too salty food and expensive this...</td>\n",
       "      <td>negative</td>\n",
       "    </tr>\n",
       "    <tr>\n",
       "      <th>4</th>\n",
       "      <td>5</td>\n",
       "      <td>i would give this infinite stars if i could my...</td>\n",
       "      <td>positive</td>\n",
       "    </tr>\n",
       "    <tr>\n",
       "      <th>5</th>\n",
       "      <td>5</td>\n",
       "      <td>really enjoyed everything they had to offer it...</td>\n",
       "      <td>positive</td>\n",
       "    </tr>\n",
       "    <tr>\n",
       "      <th>8</th>\n",
       "      <td>5</td>\n",
       "      <td>lots of choices good service line wasnt as lon...</td>\n",
       "      <td>positive</td>\n",
       "    </tr>\n",
       "    <tr>\n",
       "      <th>10</th>\n",
       "      <td>5</td>\n",
       "      <td>best buffet as of march  beats wicked spoon an...</td>\n",
       "      <td>positive</td>\n",
       "    </tr>\n",
       "    <tr>\n",
       "      <th>11</th>\n",
       "      <td>5</td>\n",
       "      <td>we tried bacchanal for lunch on a wednesday in...</td>\n",
       "      <td>positive</td>\n",
       "    </tr>\n",
       "    <tr>\n",
       "      <th>12</th>\n",
       "      <td>1</td>\n",
       "      <td>food is fine better than most buffets when i r...</td>\n",
       "      <td>negative</td>\n",
       "    </tr>\n",
       "    <tr>\n",
       "      <th>13</th>\n",
       "      <td>5</td>\n",
       "      <td>amazing buffet went at ish on a thursday and b...</td>\n",
       "      <td>positive</td>\n",
       "    </tr>\n",
       "    <tr>\n",
       "      <th>14</th>\n",
       "      <td>5</td>\n",
       "      <td>if this is what heaven is like then im going t...</td>\n",
       "      <td>positive</td>\n",
       "    </tr>\n",
       "  </tbody>\n",
       "</table>\n",
       "</div>"
      ],
      "text/plain": [
       "    stars                                               text sentiment\n",
       "0       5  after getting food poisoning at the palms hote...  positive\n",
       "3       1  not worth it too salty food and expensive this...  negative\n",
       "4       5  i would give this infinite stars if i could my...  positive\n",
       "5       5  really enjoyed everything they had to offer it...  positive\n",
       "8       5  lots of choices good service line wasnt as lon...  positive\n",
       "10      5  best buffet as of march  beats wicked spoon an...  positive\n",
       "11      5  we tried bacchanal for lunch on a wednesday in...  positive\n",
       "12      1  food is fine better than most buffets when i r...  negative\n",
       "13      5  amazing buffet went at ish on a thursday and b...  positive\n",
       "14      5  if this is what heaven is like then im going t...  positive"
      ]
     },
     "execution_count": 26,
     "metadata": {},
     "output_type": "execute_result"
    }
   ],
   "source": [
    "iyivekotu.head(10)\n",
    "#index aradan çıkanlardan dolayı bozulmuş oldu"
   ]
  },
  {
   "cell_type": "code",
   "execution_count": 27,
   "id": "7aec75c0",
   "metadata": {},
   "outputs": [
    {
     "data": {
      "text/html": [
       "<div>\n",
       "<style scoped>\n",
       "    .dataframe tbody tr th:only-of-type {\n",
       "        vertical-align: middle;\n",
       "    }\n",
       "\n",
       "    .dataframe tbody tr th {\n",
       "        vertical-align: top;\n",
       "    }\n",
       "\n",
       "    .dataframe thead th {\n",
       "        text-align: right;\n",
       "    }\n",
       "</style>\n",
       "<table border=\"1\" class=\"dataframe\">\n",
       "  <thead>\n",
       "    <tr style=\"text-align: right;\">\n",
       "      <th></th>\n",
       "      <th>stars</th>\n",
       "      <th>text</th>\n",
       "      <th>sentiment</th>\n",
       "    </tr>\n",
       "  </thead>\n",
       "  <tbody>\n",
       "    <tr>\n",
       "      <th>0</th>\n",
       "      <td>5</td>\n",
       "      <td>after getting food poisoning at the palms hote...</td>\n",
       "      <td>positive</td>\n",
       "    </tr>\n",
       "    <tr>\n",
       "      <th>3</th>\n",
       "      <td>1</td>\n",
       "      <td>not worth it too salty food and expensive this...</td>\n",
       "      <td>negative</td>\n",
       "    </tr>\n",
       "    <tr>\n",
       "      <th>4</th>\n",
       "      <td>5</td>\n",
       "      <td>i would give this infinite stars if i could my...</td>\n",
       "      <td>positive</td>\n",
       "    </tr>\n",
       "    <tr>\n",
       "      <th>5</th>\n",
       "      <td>5</td>\n",
       "      <td>really enjoyed everything they had to offer it...</td>\n",
       "      <td>positive</td>\n",
       "    </tr>\n",
       "    <tr>\n",
       "      <th>8</th>\n",
       "      <td>5</td>\n",
       "      <td>lots of choices good service line wasnt as lon...</td>\n",
       "      <td>positive</td>\n",
       "    </tr>\n",
       "    <tr>\n",
       "      <th>...</th>\n",
       "      <td>...</td>\n",
       "      <td>...</td>\n",
       "      <td>...</td>\n",
       "    </tr>\n",
       "    <tr>\n",
       "      <th>10365</th>\n",
       "      <td>5</td>\n",
       "      <td>we went to bacchanal on easter sunday as it wa...</td>\n",
       "      <td>positive</td>\n",
       "    </tr>\n",
       "    <tr>\n",
       "      <th>10366</th>\n",
       "      <td>1</td>\n",
       "      <td>came him from la thanksgiving week we decided ...</td>\n",
       "      <td>negative</td>\n",
       "    </tr>\n",
       "    <tr>\n",
       "      <th>10367</th>\n",
       "      <td>5</td>\n",
       "      <td>every time we visit las vegas we go to this bu...</td>\n",
       "      <td>positive</td>\n",
       "    </tr>\n",
       "    <tr>\n",
       "      <th>10368</th>\n",
       "      <td>5</td>\n",
       "      <td>best buffet ever irma was great served us bett...</td>\n",
       "      <td>positive</td>\n",
       "    </tr>\n",
       "    <tr>\n",
       "      <th>10370</th>\n",
       "      <td>5</td>\n",
       "      <td>the selection is amazing and all the food is e...</td>\n",
       "      <td>positive</td>\n",
       "    </tr>\n",
       "  </tbody>\n",
       "</table>\n",
       "<p>5277 rows × 3 columns</p>\n",
       "</div>"
      ],
      "text/plain": [
       "       stars                                               text sentiment\n",
       "0          5  after getting food poisoning at the palms hote...  positive\n",
       "3          1  not worth it too salty food and expensive this...  negative\n",
       "4          5  i would give this infinite stars if i could my...  positive\n",
       "5          5  really enjoyed everything they had to offer it...  positive\n",
       "8          5  lots of choices good service line wasnt as lon...  positive\n",
       "...      ...                                                ...       ...\n",
       "10365      5  we went to bacchanal on easter sunday as it wa...  positive\n",
       "10366      1  came him from la thanksgiving week we decided ...  negative\n",
       "10367      5  every time we visit las vegas we go to this bu...  positive\n",
       "10368      5  best buffet ever irma was great served us bett...  positive\n",
       "10370      5  the selection is amazing and all the food is e...  positive\n",
       "\n",
       "[5277 rows x 3 columns]"
      ]
     },
     "execution_count": 27,
     "metadata": {},
     "output_type": "execute_result"
    }
   ],
   "source": [
    "iyivekotu"
   ]
  },
  {
   "cell_type": "code",
   "execution_count": 28,
   "id": "46e4d6c8",
   "metadata": {},
   "outputs": [],
   "source": [
    "iyivekotu.reset_index(drop=True,inplace=True)"
   ]
  },
  {
   "cell_type": "code",
   "execution_count": 29,
   "id": "b86537df",
   "metadata": {},
   "outputs": [
    {
     "data": {
      "text/plain": [
       "'best buffet as of march  beats wicked spoon and othersaguas frescasstreet tacosthe desserts are amazing including the gelato sorbet and molten chocolate cake'"
      ]
     },
     "execution_count": 29,
     "metadata": {},
     "output_type": "execute_result"
    }
   ],
   "source": [
    "iyivekotu.text[5]"
   ]
  },
  {
   "cell_type": "code",
   "execution_count": 30,
   "id": "d178713f",
   "metadata": {},
   "outputs": [
    {
     "data": {
      "text/plain": [
       "<AxesSubplot: xlabel='stars', ylabel='count'>"
      ]
     },
     "execution_count": 30,
     "metadata": {},
     "output_type": "execute_result"
    },
    {
     "data": {
      "image/png": "[encoded data removed]",
      "text/plain": [
       "<Figure size 640x480 with 1 Axes>"
      ]
     },
     "metadata": {},
     "output_type": "display_data"
    }
   ],
   "source": [
    "sns.countplot(x=df[\"stars\"])"
   ]
  },
  {
   "cell_type": "code",
   "execution_count": 31,
   "id": "6e59115d",
   "metadata": {},
   "outputs": [
    {
     "data": {
      "text/plain": [
       "<AxesSubplot: xlabel='stars', ylabel='count'>"
      ]
     },
     "execution_count": 31,
     "metadata": {},
     "output_type": "execute_result"
    },
    {
     "data": {
      "image/png": "[encoded data removed]",
      "text/plain": [
       "<Figure size 640x480 with 1 Axes>"
      ]
     },
     "metadata": {},
     "output_type": "display_data"
    }
   ],
   "source": [
    "sns.countplot(x=iyivekotu[\"stars\"])"
   ]
  },
  {
   "cell_type": "code",
   "execution_count": 32,
   "id": "07f1d772",
   "metadata": {},
   "outputs": [],
   "source": [
    "x=iyivekotu[\"text\"]\n",
    "y=iyivekotu[\"stars\"]"
   ]
  },
  {
   "cell_type": "code",
   "execution_count": 33,
   "id": "7cc60558",
   "metadata": {},
   "outputs": [
    {
     "data": {
      "text/plain": [
       "'after getting food poisoning at the palms hotel i was scared to eat at any more buffets but we figured with the high price tag the positive reviews etc it was worth a chance im really glad we gave it a try btw i uploaded a collage of the things we atethe seafood line is by the far the longest i would not recommend showing up in heels if youre female my feet were killing me between the line at the door the line to get sat and the seafood line totally worth it thoughthe prime rib was the best ive ever hadi loved the sweet potato totsi even have phothe music was great and so was our server alma  he was a older gentleman with a mustache and was very attentive and delightfuli will return next trip in more comfortable shoes after a horrible visit at the palms with non stop issues in a matter of  hours your establishment was truly the high light of our trip thank you for an exquisite dinner'"
      ]
     },
     "execution_count": 33,
     "metadata": {},
     "output_type": "execute_result"
    }
   ],
   "source": [
    "x[0]"
   ]
  },
  {
   "cell_type": "code",
   "execution_count": 34,
   "id": "39c54882",
   "metadata": {},
   "outputs": [],
   "source": [
    "vect=CountVectorizer(ngram_range=(1,2),stop_words='english')"
   ]
  },
  {
   "cell_type": "code",
   "execution_count": 35,
   "id": "eb4ed244",
   "metadata": {},
   "outputs": [],
   "source": [
    "x=vect.fit_transform(x)\n",
    "#Vektörize edince Tokenize da etmiş oluyoruz"
   ]
  },
  {
   "cell_type": "code",
   "execution_count": 36,
   "id": "8a5983d8",
   "metadata": {},
   "outputs": [],
   "source": [
    "x_train,x_test,y_train,y_test=train_test_split(x,y,random_state=42,test_size=0.20)"
   ]
  },
  {
   "cell_type": "code",
   "execution_count": 37,
   "id": "e8fe7bc5",
   "metadata": {},
   "outputs": [],
   "source": [
    "tf=pd.DataFrame(x_train.toarray(),columns=vect.get_feature_names_out())"
   ]
  },
  {
   "cell_type": "code",
   "execution_count": 54,
   "id": "f6e37220",
   "metadata": {},
   "outputs": [],
   "source": [
    "lr=LogisticRegression()"
   ]
  },
  {
   "cell_type": "code",
   "execution_count": 55,
   "id": "24a69e6d",
   "metadata": {},
   "outputs": [],
   "source": [
    "model=lr.fit(x_train,y_train)"
   ]
  },
  {
   "cell_type": "code",
   "execution_count": 56,
   "id": "bf5f461b",
   "metadata": {},
   "outputs": [],
   "source": [
    "pred=lr.predict(x_test)"
   ]
  },
  {
   "cell_type": "code",
   "execution_count": 57,
   "id": "6dcb7a8e",
   "metadata": {},
   "outputs": [
    {
     "data": {
      "text/plain": [
       "0.9517045454545454"
      ]
     },
     "execution_count": 57,
     "metadata": {},
     "output_type": "execute_result"
    }
   ],
   "source": [
    "accuracy_score(pred,y_test)"
   ]
  }
 ],
 "metadata": {
  "kernelspec": {
   "display_name": "Python 3 (ipykernel)",
   "language": "python",
   "name": "python3"
  },
  "language_info": {
   "codemirror_mode": {
    "name": "ipython",
    "version": 3
   },
   "file_extension": ".py",
   "mimetype": "text/x-python",
   "name": "python",
   "nbconvert_exporter": "python",
   "pygments_lexer": "ipython3",
   "version": "3.11.4"
  }
 },
 "nbformat": 4,
 "nbformat_minor": 5
}
